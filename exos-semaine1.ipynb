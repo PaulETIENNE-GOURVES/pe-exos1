{
 "cells": [
  {
   "cell_type": "markdown",
   "id": "217af76e",
   "metadata": {},
   "source": [
    "# Exercices semaine 1 - Paul ETIENNE"
   ]
  },
  {
   "cell_type": "markdown",
   "id": "edd27e02",
   "metadata": {},
   "source": [
    "## Exo *cadre*"
   ]
  },
  {
   "cell_type": "code",
   "execution_count": 8,
   "id": "f2880583",
   "metadata": {},
   "outputs": [
    {
     "data": {
      "text/plain": [
       "'1.21.2'"
      ]
     },
     "execution_count": 8,
     "metadata": {},
     "output_type": "execute_result"
    }
   ],
   "source": [
    "import numpy as np\n",
    "import matplotlib.pyplot as plt\n",
    "np.__version__"
   ]
  },
  {
   "cell_type": "code",
   "execution_count": 33,
   "id": "cfe1c624",
   "metadata": {},
   "outputs": [
    {
     "name": "stdout",
     "output_type": "stream",
     "text": [
      "[[ True  True  True  True  True  True  True  True  True  True]\n",
      " [ True  True  True  True  True  True  True  True  True  True]\n",
      " [ True  True  True  True  True  True  True  True  True  True]\n",
      " [ True  True  True  True  True  True  True  True  True  True]\n",
      " [ True  True  True  True  True  True  True  True  True  True]\n",
      " [ True  True  True  True  True  True  True  True  True  True]\n",
      " [ True  True  True  True  True  True  True  True  True  True]\n",
      " [ True  True  True  True  True  True  True  True  True  True]\n",
      " [ True  True  True  True  True  True  True  True  True  True]\n",
      " [ True  True  True  True  True  True  True  True  True  True]]\n"
     ]
    }
   ],
   "source": [
    "# création du tableau square\n",
    "\n",
    "square = np.ones((10,10), dtype = bool)\n",
    "print(square)"
   ]
  },
  {
   "cell_type": "code",
   "execution_count": 29,
   "id": "eff3c8d9",
   "metadata": {},
   "outputs": [
    {
     "data": {
      "image/png": "[encoded data removed]",
      "text/plain": [
       "<Figure size 432x288 with 1 Axes>"
      ]
     },
     "metadata": {
      "needs_background": "light"
     },
     "output_type": "display_data"
    }
   ],
   "source": [
    "# affichage avec imshow\n",
    "\n",
    "plt.imshow(square)\n",
    "plt.show()"
   ]
  },
  {
   "cell_type": "code",
   "execution_count": 34,
   "id": "a1c1e944",
   "metadata": {},
   "outputs": [],
   "source": [
    "# fonction cadre \n",
    "\n",
    "def cadre(table, inplace = True):\n",
    "    if inplace:\n",
    "        table[1] = 0\n",
    "        table[-2] = 0\n",
    "        table[:, 1] = 0\n",
    "        table[:, -2] = 0\n",
    "        return table\n",
    "    copy = np.copy(table)\n",
    "    copy[1] = 0\n",
    "    copy[-2] = 0\n",
    "    copy[:, 1] = 0\n",
    "    copy[:, -2] = 0\n",
    "    return copy"
   ]
  },
  {
   "cell_type": "code",
   "execution_count": 37,
   "id": "b4c503f5",
   "metadata": {},
   "outputs": [
    {
     "name": "stdout",
     "output_type": "stream",
     "text": [
      "La copie modifiée de square : \n",
      " [[ True False  True  True  True  True  True  True False  True]\n",
      " [False False False False False False False False False False]\n",
      " [ True False  True  True  True  True  True  True False  True]\n",
      " [ True False  True  True  True  True  True  True False  True]\n",
      " [ True False  True  True  True  True  True  True False  True]\n",
      " [ True False  True  True  True  True  True  True False  True]\n",
      " [ True False  True  True  True  True  True  True False  True]\n",
      " [ True False  True  True  True  True  True  True False  True]\n",
      " [False False False False False False False False False False]\n",
      " [ True False  True  True  True  True  True  True False  True]]\n",
      "Le tableau square n'a pas été modifié : \n",
      " [[ True  True  True  True  True  True  True  True  True  True]\n",
      " [ True  True  True  True  True  True  True  True  True  True]\n",
      " [ True  True  True  True  True  True  True  True  True  True]\n",
      " [ True  True  True  True  True  True  True  True  True  True]\n",
      " [ True  True  True  True  True  True  True  True  True  True]\n",
      " [ True  True  True  True  True  True  True  True  True  True]\n",
      " [ True  True  True  True  True  True  True  True  True  True]\n",
      " [ True  True  True  True  True  True  True  True  True  True]\n",
      " [ True  True  True  True  True  True  True  True  True  True]\n",
      " [ True  True  True  True  True  True  True  True  True  True]]\n"
     ]
    }
   ],
   "source": [
    "# test de la fonction cadre \n",
    "\n",
    "print(f\"La copie modifiée de square : \\n {cadre(square, inplace = False)}\")\n",
    "print(f\"Le tableau square n'a pas été modifié : \\n {square}\")"
   ]
  },
  {
   "cell_type": "code",
   "execution_count": 38,
   "id": "a5d52865",
   "metadata": {},
   "outputs": [
    {
     "name": "stdout",
     "output_type": "stream",
     "text": [
      "On applique maintenant cadre à square avec l'argument inplace = True : \n",
      " [[ True False  True  True  True  True  True  True False  True]\n",
      " [False False False False False False False False False False]\n",
      " [ True False  True  True  True  True  True  True False  True]\n",
      " [ True False  True  True  True  True  True  True False  True]\n",
      " [ True False  True  True  True  True  True  True False  True]\n",
      " [ True False  True  True  True  True  True  True False  True]\n",
      " [ True False  True  True  True  True  True  True False  True]\n",
      " [ True False  True  True  True  True  True  True False  True]\n",
      " [False False False False False False False False False False]\n",
      " [ True False  True  True  True  True  True  True False  True]]\n",
      "Le tableau square a été modifié \"en place\" : \n",
      " [[ True False  True  True  True  True  True  True False  True]\n",
      " [False False False False False False False False False False]\n",
      " [ True False  True  True  True  True  True  True False  True]\n",
      " [ True False  True  True  True  True  True  True False  True]\n",
      " [ True False  True  True  True  True  True  True False  True]\n",
      " [ True False  True  True  True  True  True  True False  True]\n",
      " [ True False  True  True  True  True  True  True False  True]\n",
      " [ True False  True  True  True  True  True  True False  True]\n",
      " [False False False False False False False False False False]\n",
      " [ True False  True  True  True  True  True  True False  True]]\n"
     ]
    }
   ],
   "source": [
    "# test de la fonction cadre \n",
    "\n",
    "print(f\"On applique maintenant cadre à square avec l'argument inplace = True : \\n {cadre(square)}\")\n",
    "print(f\"Le tableau square a été modifié \\\"en place\\\" : \\n {square}\")"
   ]
  },
  {
   "cell_type": "code",
   "execution_count": 39,
   "id": "ed8f1b5d",
   "metadata": {},
   "outputs": [
    {
     "data": {
      "image/png": "[encoded data removed]",
      "text/plain": [
       "<Figure size 432x288 with 1 Axes>"
      ]
     },
     "metadata": {
      "needs_background": "light"
     },
     "output_type": "display_data"
    }
   ],
   "source": [
    "# affichage du tableau ainsi modifié\n",
    "\n",
    "plt.imshow(square)\n",
    "plt.show()"
   ]
  },
  {
   "cell_type": "code",
   "execution_count": 45,
   "id": "0fc35083",
   "metadata": {},
   "outputs": [
    {
     "data": {
      "image/png": "[encoded data removed]",
      "text/plain": [
       "<Figure size 432x288 with 1 Axes>"
      ]
     },
     "metadata": {
      "needs_background": "light"
     },
     "output_type": "display_data"
    },
    {
     "data": {
      "image/png": "[encoded data removed]",
      "text/plain": [
       "<Figure size 432x288 with 1 Axes>"
      ]
     },
     "metadata": {
      "needs_background": "light"
     },
     "output_type": "display_data"
    }
   ],
   "source": [
    "# test de cadre avec un tableau d'entiers aléatoires \n",
    "\n",
    "table = np.random.randint(0, 20, (6, 8), dtype = np.uint8)\n",
    "plt.imshow(table)\n",
    "plt.show()\n",
    "plt.imshow(cadre(table))\n",
    "plt.show()"
   ]
  },
  {
   "cell_type": "markdown",
   "id": "ef8ed6e5",
   "metadata": {},
   "source": [
    "### Quels autres tests pourraient être intéressant à appliquer à la fonction cadre ?\n",
    "\n",
    "Il faudrait peut être rajouter une condition sur la taille minimale du tableau pris en argument de la fonction. "
   ]
  },
  {
   "cell_type": "markdown",
   "id": "3fdf9e60",
   "metadata": {},
   "source": [
    "## Exo cadre2"
   ]
  },
  {
   "cell_type": "code",
   "execution_count": null,
   "id": "3dfa5552",
   "metadata": {},
   "outputs": [],
   "source": []
  }
 ],
 "metadata": {
  "kernelspec": {
   "display_name": "Python 3 (ipykernel)",
   "language": "python",
   "name": "python3"
  },
  "language_info": {
   "codemirror_mode": {
    "name": "ipython",
    "version": 3
   },
   "file_extension": ".py",
   "mimetype": "text/x-python",
   "name": "python",
   "nbconvert_exporter": "python",
   "pygments_lexer": "ipython3",
   "version": "3.9.5"
  }
 },
 "nbformat": 4,
 "nbformat_minor": 5
}
