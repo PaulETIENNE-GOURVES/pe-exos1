{
 "cells": [
  {
   "cell_type": "markdown",
   "id": "217af76e",
   "metadata": {},
   "source": [
    "# Exercices semaine 1 - Paul ETIENNE"
   ]
  },
  {
   "cell_type": "markdown",
   "id": "edd27e02",
   "metadata": {},
   "source": [
    "## Exo *cadre*"
   ]
  },
  {
   "cell_type": "code",
   "execution_count": 4,
   "id": "f2880583",
   "metadata": {},
   "outputs": [
    {
     "data": {
      "text/plain": [
       "'1.21.2'"
      ]
     },
     "execution_count": 4,
     "metadata": {},
     "output_type": "execute_result"
    }
   ],
   "source": [
    "import numpy as np\n",
    "import matplotlib.pyplot as plt\n",
    "np.__version__"
   ]
  },
  {
   "cell_type": "code",
   "execution_count": 5,
   "id": "cfe1c624",
   "metadata": {},
   "outputs": [
    {
     "name": "stdout",
     "output_type": "stream",
     "text": [
      "[[ True  True  True  True  True  True  True  True  True  True]\n",
      " [ True  True  True  True  True  True  True  True  True  True]\n",
      " [ True  True  True  True  True  True  True  True  True  True]\n",
      " [ True  True  True  True  True  True  True  True  True  True]\n",
      " [ True  True  True  True  True  True  True  True  True  True]\n",
      " [ True  True  True  True  True  True  True  True  True  True]\n",
      " [ True  True  True  True  True  True  True  True  True  True]\n",
      " [ True  True  True  True  True  True  True  True  True  True]\n",
      " [ True  True  True  True  True  True  True  True  True  True]\n",
      " [ True  True  True  True  True  True  True  True  True  True]]\n"
     ]
    }
   ],
   "source": [
    "# création du tableau square\n",
    "\n",
    "square = np.ones((10,10), dtype = bool)\n",
    "print(square)"
   ]
  },
  {
   "cell_type": "code",
   "execution_count": 6,
   "id": "eff3c8d9",
   "metadata": {},
   "outputs": [
    {
     "data": {
      "image/png": "[encoded data removed]",
      "text/plain": [
       "<Figure size 432x288 with 1 Axes>"
      ]
     },
     "metadata": {
      "needs_background": "light"
     },
     "output_type": "display_data"
    }
   ],
   "source": [
    "# affichage avec imshow\n",
    "\n",
    "plt.imshow(square)\n",
    "plt.show()"
   ]
  },
  {
   "cell_type": "code",
   "execution_count": 7,
   "id": "a1c1e944",
   "metadata": {},
   "outputs": [],
   "source": [
    "# fonction cadre \n",
    "\n",
    "def cadre(table, inplace = True):\n",
    "    if inplace:\n",
    "        table[1] = 0\n",
    "        table[-2] = 0\n",
    "        table[:, 1] = 0\n",
    "        table[:, -2] = 0\n",
    "        return table\n",
    "    copy = np.copy(table)\n",
    "    copy[1] = 0\n",
    "    copy[-2] = 0\n",
    "    copy[:, 1] = 0\n",
    "    copy[:, -2] = 0\n",
    "    return copy"
   ]
  },
  {
   "cell_type": "code",
   "execution_count": 8,
   "id": "b4c503f5",
   "metadata": {},
   "outputs": [
    {
     "name": "stdout",
     "output_type": "stream",
     "text": [
      "La copie modifiée de square : \n",
      " [[ True False  True  True  True  True  True  True False  True]\n",
      " [False False False False False False False False False False]\n",
      " [ True False  True  True  True  True  True  True False  True]\n",
      " [ True False  True  True  True  True  True  True False  True]\n",
      " [ True False  True  True  True  True  True  True False  True]\n",
      " [ True False  True  True  True  True  True  True False  True]\n",
      " [ True False  True  True  True  True  True  True False  True]\n",
      " [ True False  True  True  True  True  True  True False  True]\n",
      " [False False False False False False False False False False]\n",
      " [ True False  True  True  True  True  True  True False  True]]\n",
      "Le tableau square n'a pas été modifié : \n",
      " [[ True  True  True  True  True  True  True  True  True  True]\n",
      " [ True  True  True  True  True  True  True  True  True  True]\n",
      " [ True  True  True  True  True  True  True  True  True  True]\n",
      " [ True  True  True  True  True  True  True  True  True  True]\n",
      " [ True  True  True  True  True  True  True  True  True  True]\n",
      " [ True  True  True  True  True  True  True  True  True  True]\n",
      " [ True  True  True  True  True  True  True  True  True  True]\n",
      " [ True  True  True  True  True  True  True  True  True  True]\n",
      " [ True  True  True  True  True  True  True  True  True  True]\n",
      " [ True  True  True  True  True  True  True  True  True  True]]\n"
     ]
    }
   ],
   "source": [
    "# test de la fonction cadre \n",
    "\n",
    "print(f\"La copie modifiée de square : \\n {cadre(square, inplace = False)}\")\n",
    "print(f\"Le tableau square n'a pas été modifié : \\n {square}\")"
   ]
  },
  {
   "cell_type": "code",
   "execution_count": 9,
   "id": "a5d52865",
   "metadata": {},
   "outputs": [
    {
     "name": "stdout",
     "output_type": "stream",
     "text": [
      "On applique maintenant cadre à square avec l'argument inplace = True : \n",
      " [[ True False  True  True  True  True  True  True False  True]\n",
      " [False False False False False False False False False False]\n",
      " [ True False  True  True  True  True  True  True False  True]\n",
      " [ True False  True  True  True  True  True  True False  True]\n",
      " [ True False  True  True  True  True  True  True False  True]\n",
      " [ True False  True  True  True  True  True  True False  True]\n",
      " [ True False  True  True  True  True  True  True False  True]\n",
      " [ True False  True  True  True  True  True  True False  True]\n",
      " [False False False False False False False False False False]\n",
      " [ True False  True  True  True  True  True  True False  True]]\n",
      "Le tableau square a été modifié \"en place\" : \n",
      " [[ True False  True  True  True  True  True  True False  True]\n",
      " [False False False False False False False False False False]\n",
      " [ True False  True  True  True  True  True  True False  True]\n",
      " [ True False  True  True  True  True  True  True False  True]\n",
      " [ True False  True  True  True  True  True  True False  True]\n",
      " [ True False  True  True  True  True  True  True False  True]\n",
      " [ True False  True  True  True  True  True  True False  True]\n",
      " [ True False  True  True  True  True  True  True False  True]\n",
      " [False False False False False False False False False False]\n",
      " [ True False  True  True  True  True  True  True False  True]]\n"
     ]
    }
   ],
   "source": [
    "# test de la fonction cadre \n",
    "\n",
    "print(f\"On applique maintenant cadre à square avec l'argument inplace = True : \\n {cadre(square)}\")\n",
    "print(f\"Le tableau square a été modifié \\\"en place\\\" : \\n {square}\")"
   ]
  },
  {
   "cell_type": "code",
   "execution_count": 10,
   "id": "ed8f1b5d",
   "metadata": {},
   "outputs": [
    {
     "data": {
      "image/png": "[encoded data removed]",
      "text/plain": [
       "<Figure size 432x288 with 1 Axes>"
      ]
     },
     "metadata": {
      "needs_background": "light"
     },
     "output_type": "display_data"
    }
   ],
   "source": [
    "# affichage du tableau ainsi modifié\n",
    "\n",
    "plt.imshow(square)\n",
    "plt.show()"
   ]
  },
  {
   "cell_type": "code",
   "execution_count": 11,
   "id": "0fc35083",
   "metadata": {},
   "outputs": [
    {
     "data": {
      "image/png": "[encoded data removed]",
      "text/plain": [
       "<Figure size 432x288 with 1 Axes>"
      ]
     },
     "metadata": {
      "needs_background": "light"
     },
     "output_type": "display_data"
    },
    {
     "data": {
      "image/png": "[encoded data removed]",
      "text/plain": [
       "<Figure size 432x288 with 1 Axes>"
      ]
     },
     "metadata": {
      "needs_background": "light"
     },
     "output_type": "display_data"
    }
   ],
   "source": [
    "# test de cadre avec un tableau d'entiers aléatoires \n",
    "\n",
    "table = np.random.randint(0, 20, (6, 8), dtype = np.uint8)\n",
    "plt.imshow(table)\n",
    "plt.show()\n",
    "plt.imshow(cadre(table, inplace = False))\n",
    "plt.show()"
   ]
  },
  {
   "cell_type": "markdown",
   "id": "ef8ed6e5",
   "metadata": {},
   "source": [
    "### Quels autres tests pourraient être intéressant à appliquer à la fonction cadre ?\n",
    "\n",
    "Il faudrait peut être rajouter une condition sur la taille minimale du tableau pris en argument de la fonction. "
   ]
  },
  {
   "cell_type": "markdown",
   "id": "3fdf9e60",
   "metadata": {},
   "source": [
    "## Exo *cadre2*"
   ]
  },
  {
   "cell_type": "code",
   "execution_count": 12,
   "id": "3dfa5552",
   "metadata": {},
   "outputs": [],
   "source": [
    "# écriture de la fonction cadre2\n",
    "\n",
    "def cadre2(tableau):\n",
    "    sh = tableau.shape\n",
    "    new = np.zeros(np.array(sh) + 2)\n",
    "    new[1:-1, 1:-1] = tableau\n",
    "    return new"
   ]
  },
  {
   "cell_type": "code",
   "execution_count": 13,
   "id": "8e84806c",
   "metadata": {},
   "outputs": [
    {
     "name": "stdout",
     "output_type": "stream",
     "text": [
      "[[ 0.  0.  0.  0.  0.  0.  0.  0.  0.  0.]\n",
      " [ 0.  8.  1. 18.  1.  8. 16. 11.  0.  0.]\n",
      " [ 0.  6.  6.  2. 18.  3.  7. 15.  5.  0.]\n",
      " [ 0. 15.  1.  9. 16. 12.  5. 16.  3.  0.]\n",
      " [ 0.  2. 19. 13. 17. 19.  3. 10.  5.  0.]\n",
      " [ 0.  2.  8. 18.  6. 14.  6.  9. 10.  0.]\n",
      " [ 0.  8.  3.  7.  0.  3.  2.  4.  8.  0.]\n",
      " [ 0.  0.  0.  0.  0.  0.  0.  0.  0.  0.]]\n"
     ]
    },
    {
     "data": {
      "image/png": "[encoded data removed]",
      "text/plain": [
       "<Figure size 432x288 with 1 Axes>"
      ]
     },
     "metadata": {
      "needs_background": "light"
     },
     "output_type": "display_data"
    }
   ],
   "source": [
    "# test de la fonction cadre2 sur le tableau random précédent\n",
    "\n",
    "print(cadre2(table))\n",
    "plt.imshow(cadre2(table))\n",
    "plt.show()"
   ]
  },
  {
   "cell_type": "markdown",
   "id": "170982f2",
   "metadata": {},
   "source": [
    "## Exo *anti_diagonal*"
   ]
  },
  {
   "cell_type": "code",
   "execution_count": 19,
   "id": "019c2141",
   "metadata": {},
   "outputs": [],
   "source": [
    "# définition de la fonction anti-diagonale\n",
    "\n",
    "def anti_diagonal(diag):\n",
    "    '''Version avec boucle for et np.zeros()'''\n",
    "    n = len(diag)\n",
    "    table = np.zeros((n,n))\n",
    "    for i in range(n):\n",
    "        table[i, n-1-i] = diag[i]\n",
    "    return table"
   ]
  },
  {
   "cell_type": "code",
   "execution_count": 20,
   "id": "76df5d4d",
   "metadata": {},
   "outputs": [
    {
     "name": "stdout",
     "output_type": "stream",
     "text": [
      "[[1.]]\n",
      "[[0. 1.]\n",
      " [2. 0.]]\n"
     ]
    }
   ],
   "source": [
    "# test de la fonction\n",
    "\n",
    "print(anti_diagonal([1]))\n",
    "print(anti_diagonal([1,2]))"
   ]
  },
  {
   "cell_type": "markdown",
   "id": "0fa7dc0d",
   "metadata": {},
   "source": [
    "Je ne vois pas vraiment comment faire avec np.empty, à part en utilisant une double boucle for et en modifiant un par un les éléments du tableau ... "
   ]
  },
  {
   "cell_type": "code",
   "execution_count": 42,
   "id": "cd10c89a",
   "metadata": {},
   "outputs": [],
   "source": [
    "def anti_diagonal(diag):\n",
    "    '''Version sans boucle for'''\n",
    "    table = np.diag(list(diag))\n",
    "    table = table[:, ::-1]\n",
    "    return table"
   ]
  },
  {
   "cell_type": "code",
   "execution_count": 44,
   "id": "9961fae6",
   "metadata": {},
   "outputs": [
    {
     "name": "stdout",
     "output_type": "stream",
     "text": [
      "[[0 0 0 1]\n",
      " [0 0 2 0]\n",
      " [0 3 0 0]\n",
      " [4 0 0 0]]\n",
      "Avec un tuple : \n",
      " [[0 0 0 1]\n",
      " [0 0 2 0]\n",
      " [0 3 0 0]\n",
      " [4 0 0 0]]\n",
      "Avec un range : \n",
      " [[0 0 0 1]\n",
      " [0 0 2 0]\n",
      " [0 3 0 0]\n",
      " [4 0 0 0]]\n",
      "Avec un ensemble de nombres : \n",
      " [[0 0 0 1]\n",
      " [0 0 2 0]\n",
      " [0 3 0 0]\n",
      " [4 0 0 0]]\n",
      "Avec un dictionnaire : \n",
      " [[0 0 0 1]\n",
      " [0 0 2 0]\n",
      " [0 3 0 0]\n",
      " [4 0 0 0]]\n"
     ]
    }
   ],
   "source": [
    "#test de la fonction sans boucle for\n",
    "\n",
    "print(anti_diagonal([1,2,3,4]))\n",
    "print(f\"Avec un tuple : \\n {anti_diagonal((1,2,3,4))}\")\n",
    "print(f\"Avec un range : \\n {anti_diagonal(range(1,5))}\")\n",
    "print(f\"Avec un ensemble de nombres : \\n {anti_diagonal({1,2,3,4})}\")\n",
    "print(f\"Avec un dictionnaire : \\n {anti_diagonal({1: None, 2: None, 3: None, 4: None})}\")"
   ]
  },
  {
   "cell_type": "code",
   "execution_count": 47,
   "id": "94e9c51a",
   "metadata": {},
   "outputs": [],
   "source": [
    "def anti_diagonal(diag, dtype = None):\n",
    "    '''Version sans boucle for avec affichage dtype'''\n",
    "    table = np.diag(list(diag))\n",
    "    table = table[:, ::-1]\n",
    "    table = np.array(table, dtype = dtype)\n",
    "    return table, dtype"
   ]
  },
  {
   "cell_type": "code",
   "execution_count": 50,
   "id": "eaa5e411",
   "metadata": {},
   "outputs": [
    {
     "name": "stdout",
     "output_type": "stream",
     "text": [
      "(array([[0, 0, 0, 1],\n",
      "       [0, 0, 2, 0],\n",
      "       [0, 3, 0, 0],\n",
      "       [4, 0, 0, 0]]), None)\n",
      "(array([[0., 0., 0., 1.],\n",
      "       [0., 0., 2., 0.],\n",
      "       [0., 3., 0., 0.],\n",
      "       [4., 0., 0., 0.]]), <class 'float'>)\n",
      "(array([[0, 0, 0, 1],\n",
      "       [0, 0, 2, 0],\n",
      "       [0, 3, 0, 0],\n",
      "       [4, 0, 0, 0]], dtype=uint8), <class 'numpy.uint8'>)\n"
     ]
    }
   ],
   "source": [
    "print(anti_diagonal([1,2,3,4]))\n",
    "print(anti_diagonal([1,2,3,4], dtype = float))\n",
    "print(anti_diagonal([1,2,3,4], dtype = np.uint8))"
   ]
  },
  {
   "cell_type": "code",
   "execution_count": 51,
   "id": "f6e5e2a6",
   "metadata": {},
   "outputs": [
    {
     "data": {
      "text/plain": [
       "(array([[0, 0, 0, 0],\n",
       "        [0, 0, 1, 0],\n",
       "        [0, 2, 0, 0],\n",
       "        [3, 0, 0, 0]], dtype=int16),\n",
       " numpy.int16)"
      ]
     },
     "execution_count": 51,
     "metadata": {},
     "output_type": "execute_result"
    }
   ],
   "source": [
    "anti_diagonal(range(4), dtype=np.int16)"
   ]
  },
  {
   "cell_type": "code",
   "execution_count": 52,
   "id": "bcbcfafd",
   "metadata": {},
   "outputs": [
    {
     "data": {
      "text/plain": [
       "(array([[0, 0, 0, 0],\n",
       "        [0, 0, 1, 0],\n",
       "        [0, 4, 0, 0],\n",
       "        [9, 0, 0, 0]]),\n",
       " None)"
      ]
     },
     "execution_count": 52,
     "metadata": {},
     "output_type": "execute_result"
    }
   ],
   "source": [
    "anti_diagonal(x**2 for x in range(4))"
   ]
  },
  {
   "cell_type": "markdown",
   "id": "697bd927",
   "metadata": {},
   "source": [
    "Youpi, ça marche du premier coup :)"
   ]
  },
  {
   "cell_type": "code",
   "execution_count": 53,
   "id": "554ef890",
   "metadata": {},
   "outputs": [
    {
     "data": {
      "text/plain": [
       "(array([[0, 0, 0, 0],\n",
       "        [0, 0, 1, 0],\n",
       "        [0, 4, 0, 0],\n",
       "        [9, 0, 0, 0]]),\n",
       " None)"
      ]
     },
     "execution_count": 53,
     "metadata": {},
     "output_type": "execute_result"
    }
   ],
   "source": [
    "anti_diagonal([x**2 for x in range(4)])"
   ]
  }
 ],
 "metadata": {
  "kernelspec": {
   "display_name": "Python 3 (ipykernel)",
   "language": "python",
   "name": "python3"
  },
  "language_info": {
   "codemirror_mode": {
    "name": "ipython",
    "version": 3
   },
   "file_extension": ".py",
   "mimetype": "text/x-python",
   "name": "python",
   "nbconvert_exporter": "python",
   "pygments_lexer": "ipython3",
   "version": "3.9.5"
  }
 },
 "nbformat": 4,
 "nbformat_minor": 5
}
